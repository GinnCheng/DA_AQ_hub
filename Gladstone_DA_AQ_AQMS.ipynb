{
 "cells": [
  {
   "cell_type": "markdown",
   "id": "53268f6e-6d59-4e95-9fbb-9f3fcdb253af",
   "metadata": {},
   "source": [
    "# This is a template to program data analytics repo for AQMS data processing, the current project that the code is focusing on is Gladstone Desal Project in QLD. There for the data analytics is currently in formatting the data from QLD AQMS/AMNSs. There can be changes if other projects come in but with a format from states other than QLD state."
   ]
  },
  {
   "cell_type": "code",
   "execution_count": 1,
   "id": "6b78f713-f36d-4189-b0f5-7a749adbb0b8",
   "metadata": {},
   "outputs": [],
   "source": [
    "import numpy as np\n",
    "import matplotlib.pyplot as plt\n",
    "import pandas as pd\n",
    "import seaborn as sns"
   ]
  },
  {
   "cell_type": "code",
   "execution_count": 2,
   "id": "721c7fc6-55a2-4e89-927c-ab275de46d3c",
   "metadata": {},
   "outputs": [
    {
     "name": "stdout",
     "output_type": "stream",
     "text": [
      " Volume in drive C is Windows\n",
      " Volume Serial Number is 9823-A664\n",
      "\n",
      " Directory of C:\\Users\\CHENGG\\Desktop\\pythonProject\n",
      "\n",
      "04/11/2024  03:06 PM    <DIR>          .\n",
      "31/10/2024  02:06 PM    <DIR>          ..\n",
      "04/11/2024  03:04 PM    <DIR>          .idea\n",
      "04/11/2024  03:01 PM    <DIR>          .ipynb_checkpoints\n",
      "04/11/2024  03:06 PM             1,377 Gladstone_DA_AQ_AQMS.ipynb\n",
      "01/11/2024  09:36 AM    <DIR>          venv\n",
      "               1 File(s)          1,377 bytes\n",
      "               5 Dir(s)  398,504,034,304 bytes free\n"
     ]
    }
   ],
   "source": [
    "%ls"
   ]
  },
  {
   "cell_type": "code",
   "execution_count": null,
   "id": "ef6aa252-17cc-477c-8955-43507812c8ae",
   "metadata": {},
   "outputs": [],
   "source": []
  }
 ],
 "metadata": {
  "kernelspec": {
   "display_name": "Python 3 (ipykernel)",
   "language": "python",
   "name": "python3"
  },
  "language_info": {
   "codemirror_mode": {
    "name": "ipython",
    "version": 3
   },
   "file_extension": ".py",
   "mimetype": "text/x-python",
   "name": "python",
   "nbconvert_exporter": "python",
   "pygments_lexer": "ipython3",
   "version": "3.10.11"
  }
 },
 "nbformat": 4,
 "nbformat_minor": 5
}
