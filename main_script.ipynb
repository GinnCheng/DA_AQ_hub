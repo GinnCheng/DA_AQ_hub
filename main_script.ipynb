{
 "cells": [
  {
   "cell_type": "markdown",
   "id": "1738d923-833e-4495-86fc-00bae775e281",
   "metadata": {},
   "source": [
    "# DA for AQMS in QLD\n",
    "### The current version is to wrangle and clean the AQ data from the AQMS in QLD, or AMNS in QLD"
   ]
  },
  {
   "cell_type": "code",
   "execution_count": 1,
   "id": "48c4e4fc-dbb2-4d8c-809b-3750f9962e95",
   "metadata": {},
   "outputs": [],
   "source": [
    "import numpy as np\n",
    "import pandas as pd\n",
    "import matplotlib.pyplot as plt\n",
    "import seaborn as sns"
   ]
  },
  {
   "cell_type": "code",
   "execution_count": null,
   "id": "43629784-ecac-44f6-8722-8b07176402b3",
   "metadata": {},
   "outputs": [],
   "source": []
  },
  {
   "cell_type": "code",
   "execution_count": null,
   "id": "90e5204a-42ab-46a5-a2ae-0e05ef5e77e5",
   "metadata": {},
   "outputs": [],
   "source": []
  },
  {
   "cell_type": "code",
   "execution_count": null,
   "id": "b091d4ba-b7fe-47cb-8695-477a75018775",
   "metadata": {},
   "outputs": [],
   "source": []
  },
  {
   "cell_type": "code",
   "execution_count": null,
   "id": "ae2b9e81-5e91-44db-b359-f9ced6f58cca",
   "metadata": {},
   "outputs": [],
   "source": []
  },
  {
   "cell_type": "code",
   "execution_count": null,
   "id": "c2905197-953b-4933-86ee-83582127b15c",
   "metadata": {},
   "outputs": [],
   "source": []
  }
 ],
 "metadata": {
  "kernelspec": {
   "display_name": "Python 3 (ipykernel)",
   "language": "python",
   "name": "python3"
  },
  "language_info": {
   "codemirror_mode": {
    "name": "ipython",
    "version": 3
   },
   "file_extension": ".py",
   "mimetype": "text/x-python",
   "name": "python",
   "nbconvert_exporter": "python",
   "pygments_lexer": "ipython3",
   "version": "3.10.11"
  }
 },
 "nbformat": 4,
 "nbformat_minor": 5
}
